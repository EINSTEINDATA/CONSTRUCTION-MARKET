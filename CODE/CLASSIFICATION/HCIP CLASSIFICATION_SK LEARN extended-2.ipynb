{
 "cells": [
  {
   "cell_type": "code",
   "execution_count": 82,
   "metadata": {},
   "outputs": [],
   "source": [
    "# import the library\n",
    "%matplotlib inline\n",
    "\n",
    "import pandas as pd\n",
    "import numpy as np\n",
    "import matplotlib.pyplot as plt\n",
    "import seaborn as sns\n",
    "\n",
    "# sklearn :: utils\n",
    "from sklearn.model_selection import train_test_split\n",
    "from sklearn.model_selection import KFold\n",
    "from sklearn.metrics import confusion_matrix\n",
    "from sklearn.metrics import precision_score\n",
    "from sklearn.metrics import recall_score\n",
    "\n",
    "# sklearn :: models\n",
    "from sklearn.naive_bayes import GaussianNB\n",
    "from sklearn.ensemble import RandomForestClassifier\n",
    "from sklearn.neighbors import KNeighborsClassifier\n",
    "from sklearn.tree import DecisionTreeClassifier\n",
    "\n",
    "sns.set_style('whitegrid')"
   ]
  },
  {
   "cell_type": "markdown",
   "metadata": {},
   "source": [
    "# Problem definition"
   ]
  },
  {
   "cell_type": "code",
   "execution_count": 83,
   "metadata": {},
   "outputs": [],
   "source": [
    "# Apply regression models to predict the Product Family sales along with the market segment"
   ]
  },
  {
   "cell_type": "markdown",
   "metadata": {},
   "source": [
    "# Load the data"
   ]
  },
  {
   "cell_type": "code",
   "execution_count": 84,
   "metadata": {},
   "outputs": [
    {
     "name": "stdout",
     "output_type": "stream",
     "text": [
      "Index(['Customer_Name ', 'Product_Family_Desc', 'Ship_Type', 'Order Type',\n",
      "       'Customer_Address ', 'Market_Segment_Desc ', 'Supplier_Name', '2016',\n",
      "       '2017'],\n",
      "      dtype='object')\n"
     ]
    },
    {
     "data": {
      "text/html": [
       "<div>\n",
       "<style scoped>\n",
       "    .dataframe tbody tr th:only-of-type {\n",
       "        vertical-align: middle;\n",
       "    }\n",
       "\n",
       "    .dataframe tbody tr th {\n",
       "        vertical-align: top;\n",
       "    }\n",
       "\n",
       "    .dataframe thead th {\n",
       "        text-align: right;\n",
       "    }\n",
       "</style>\n",
       "<table border=\"1\" class=\"dataframe\">\n",
       "  <thead>\n",
       "    <tr style=\"text-align: right;\">\n",
       "      <th></th>\n",
       "      <th>Customer_Name</th>\n",
       "      <th>Product_Family_Desc</th>\n",
       "      <th>Ship_Type</th>\n",
       "      <th>Order Type</th>\n",
       "      <th>Customer_Address</th>\n",
       "      <th>Market_Segment_Desc</th>\n",
       "      <th>Supplier_Name</th>\n",
       "      <th>2016</th>\n",
       "      <th>2017</th>\n",
       "    </tr>\n",
       "  </thead>\n",
       "  <tbody>\n",
       "    <tr>\n",
       "      <th>0</th>\n",
       "      <td>Customer_Name</td>\n",
       "      <td>WIRE &amp; CABLE</td>\n",
       "      <td>1</td>\n",
       "      <td>A</td>\n",
       "      <td>SAINT-LAURENT, H4T1X7</td>\n",
       "      <td>OTHER</td>\n",
       "      <td>SPOOLON MFG LTD</td>\n",
       "      <td>$2,011.52</td>\n",
       "      <td>3017.28</td>\n",
       "    </tr>\n",
       "    <tr>\n",
       "      <th>1</th>\n",
       "      <td>Customer_Name</td>\n",
       "      <td>CONDUIT &amp; ACCESSORIES</td>\n",
       "      <td>1</td>\n",
       "      <td>C</td>\n",
       "      <td>SAINT-LAURENT, H4T1X7</td>\n",
       "      <td>OTHER</td>\n",
       "      <td>COLUMBIA/MBF</td>\n",
       "      <td>$41.19</td>\n",
       "      <td>NaN</td>\n",
       "    </tr>\n",
       "    <tr>\n",
       "      <th>2</th>\n",
       "      <td>Customer_Name</td>\n",
       "      <td>CONDUIT &amp; ACCESSORIES</td>\n",
       "      <td>1</td>\n",
       "      <td>C</td>\n",
       "      <td>SAINT-LAURENT, H4T1X7</td>\n",
       "      <td>OTHER</td>\n",
       "      <td>REXEL CANADA ELECTRICAL INC.</td>\n",
       "      <td>$29.87</td>\n",
       "      <td>4.35</td>\n",
       "    </tr>\n",
       "    <tr>\n",
       "      <th>3</th>\n",
       "      <td>Customer_Name</td>\n",
       "      <td>CONDUIT &amp; ACCESSORIES</td>\n",
       "      <td>1</td>\n",
       "      <td>C</td>\n",
       "      <td>SAINT-LAURENT, H4T1X7</td>\n",
       "      <td>OTHER</td>\n",
       "      <td>THOMAS &amp; BETTS</td>\n",
       "      <td>NaN</td>\n",
       "      <td>22.27</td>\n",
       "    </tr>\n",
       "    <tr>\n",
       "      <th>4</th>\n",
       "      <td>Customer_Name</td>\n",
       "      <td>CONNECT, FITT &amp; OUT/BOXES</td>\n",
       "      <td>1</td>\n",
       "      <td>A</td>\n",
       "      <td>SAINT-LAURENT, H4T1X7</td>\n",
       "      <td>OTHER</td>\n",
       "      <td>3M CDA INC</td>\n",
       "      <td>$13.00</td>\n",
       "      <td>NaN</td>\n",
       "    </tr>\n",
       "  </tbody>\n",
       "</table>\n",
       "</div>"
      ],
      "text/plain": [
       "   Customer_Name         Product_Family_Desc  Ship_Type Order Type  \\\n",
       "0  Customer_Name                WIRE & CABLE          1          A   \n",
       "1  Customer_Name       CONDUIT & ACCESSORIES          1          C   \n",
       "2  Customer_Name       CONDUIT & ACCESSORIES          1          C   \n",
       "3  Customer_Name       CONDUIT & ACCESSORIES          1          C   \n",
       "4  Customer_Name   CONNECT, FITT & OUT/BOXES          1          A   \n",
       "\n",
       "       Customer_Address  Market_Segment_Desc                  Supplier_Name  \\\n",
       "0  SAINT-LAURENT, H4T1X7                OTHER               SPOOLON MFG LTD   \n",
       "1  SAINT-LAURENT, H4T1X7                OTHER                  COLUMBIA/MBF   \n",
       "2  SAINT-LAURENT, H4T1X7                OTHER  REXEL CANADA ELECTRICAL INC.   \n",
       "3  SAINT-LAURENT, H4T1X7                OTHER                THOMAS & BETTS   \n",
       "4  SAINT-LAURENT, H4T1X7                OTHER                    3M CDA INC   \n",
       "\n",
       "         2016     2017  \n",
       "0  $2,011.52   3017.28  \n",
       "1     $41.19       NaN  \n",
       "2     $29.87      4.35  \n",
       "3         NaN    22.27  \n",
       "4     $13.00       NaN  "
      ]
     },
     "execution_count": 84,
     "metadata": {},
     "output_type": "execute_result"
    }
   ],
   "source": [
    "#input\n",
    "df_sales = pd.read_csv('/Users/jeromepotvin/Desktop/PERSONNEL JEROME/CONCORDIA/1260_BIG DATA/PROJECT/DATA/RAW/1_FINAL CUSTOMER SALES_16_17.csv')\n",
    "df_sales ['2017'] = df_sales ['2017'].apply(lambda x: str(x).replace('$','').replace('(','').replace(')','').replace(',','')).astype(float)\n",
    "print(df_sales.columns)\n",
    "df_sales.head()"
   ]
  },
  {
   "cell_type": "markdown",
   "metadata": {},
   "source": [
    "# Feature Engineering "
   ]
  },
  {
   "cell_type": "code",
   "execution_count": 85,
   "metadata": {},
   "outputs": [],
   "source": [
    "# Cleaning according to the data dictionary\n",
    "# https://archive.ics.uci.edu/ml/datasets/default+of+credit+card+clients\n",
    "#print(len(df_sales))\n",
    "# X2: Product Family Desc (1 = WIRE_CABLE; 2 = CONDUIT_ACCESSORIES; 3 = CONNECT_FITT_OUTBOXES; 4 = DATACOM; 5 = DISTRIBUTION_FUSES; 6 = HEATING_PRODUCTS; 7 = LIGHTING; 8 = MOTOR_CONTROLS_AUTOMATION; 9 = OTHER_PRODUCTS; 10 = SECURITY_PRODUCTS; 11 = TOOLS). \n",
    "#df_sales = df_sales[df_sales['Product_Family_Desc'].isin([1,2,3,4,5,6,7,8,9,10,11])]\n",
    "# X3: Market Segment Desc (1 = COMMERCIAL CONTRACTOR; 2 = DATA CONTRACTORS; 3 = RESIDENTIAL CONTRACTOR; 4 = INDUSTRIAL CONTRACTOR). \n",
    "#df_sales = df_sales[df_sales['Market_Segment_Desc '].isin([1,2,3,4])]\n",
    "#X4: Ship Type (1 = WH; 2 = NLI; 3 = Project). \n",
    "#df_sales = df_sales[df_sales['Ship_Type'].isin([1,2,3])]\n",
    "#print(len(df_sales))"
   ]
  },
  {
   "cell_type": "code",
   "execution_count": 86,
   "metadata": {},
   "outputs": [
    {
     "name": "stdout",
     "output_type": "stream",
     "text": [
      "(144468, 9) (144468, 13) (144468, 11) (144468, 3)\n"
     ]
    },
    {
     "data": {
      "text/html": [
       "<div>\n",
       "<style scoped>\n",
       "    .dataframe tbody tr th:only-of-type {\n",
       "        vertical-align: middle;\n",
       "    }\n",
       "\n",
       "    .dataframe tbody tr th {\n",
       "        vertical-align: top;\n",
       "    }\n",
       "\n",
       "    .dataframe thead th {\n",
       "        text-align: right;\n",
       "    }\n",
       "</style>\n",
       "<table border=\"1\" class=\"dataframe\">\n",
       "  <thead>\n",
       "    <tr style=\"text-align: right;\">\n",
       "      <th></th>\n",
       "      <th>Customer_Name</th>\n",
       "      <th>Product_Family_Desc</th>\n",
       "      <th>Ship_Type</th>\n",
       "      <th>Order Type</th>\n",
       "      <th>Customer_Address</th>\n",
       "      <th>Market_Segment_Desc</th>\n",
       "      <th>Supplier_Name</th>\n",
       "      <th>2016</th>\n",
       "      <th>2017</th>\n",
       "      <th>ALTERNATE ENERGY</th>\n",
       "      <th>...</th>\n",
       "      <th>GOVERNMENT INSTITUTIONS</th>\n",
       "      <th>INDUSTRIAL CONTRACTOR</th>\n",
       "      <th>INDUSTRY END USERS</th>\n",
       "      <th>OTHER</th>\n",
       "      <th>RESIDENTIAL CONTRACTOR</th>\n",
       "      <th>UTILITIES</th>\n",
       "      <th>UTILITY CONTRACTORS</th>\n",
       "      <th>1</th>\n",
       "      <th>2</th>\n",
       "      <th>3</th>\n",
       "    </tr>\n",
       "  </thead>\n",
       "  <tbody>\n",
       "    <tr>\n",
       "      <th>0</th>\n",
       "      <td>Customer_Name</td>\n",
       "      <td>WIRE &amp; CABLE</td>\n",
       "      <td>1</td>\n",
       "      <td>A</td>\n",
       "      <td>SAINT-LAURENT, H4T1X7</td>\n",
       "      <td>OTHER</td>\n",
       "      <td>SPOOLON MFG LTD</td>\n",
       "      <td>$2,011.52</td>\n",
       "      <td>3017.28</td>\n",
       "      <td>0</td>\n",
       "      <td>...</td>\n",
       "      <td>0</td>\n",
       "      <td>0</td>\n",
       "      <td>0</td>\n",
       "      <td>1</td>\n",
       "      <td>0</td>\n",
       "      <td>0</td>\n",
       "      <td>0</td>\n",
       "      <td>1</td>\n",
       "      <td>0</td>\n",
       "      <td>0</td>\n",
       "    </tr>\n",
       "    <tr>\n",
       "      <th>1</th>\n",
       "      <td>Customer_Name</td>\n",
       "      <td>CONDUIT &amp; ACCESSORIES</td>\n",
       "      <td>1</td>\n",
       "      <td>C</td>\n",
       "      <td>SAINT-LAURENT, H4T1X7</td>\n",
       "      <td>OTHER</td>\n",
       "      <td>COLUMBIA/MBF</td>\n",
       "      <td>$41.19</td>\n",
       "      <td>NaN</td>\n",
       "      <td>0</td>\n",
       "      <td>...</td>\n",
       "      <td>0</td>\n",
       "      <td>0</td>\n",
       "      <td>0</td>\n",
       "      <td>1</td>\n",
       "      <td>0</td>\n",
       "      <td>0</td>\n",
       "      <td>0</td>\n",
       "      <td>1</td>\n",
       "      <td>0</td>\n",
       "      <td>0</td>\n",
       "    </tr>\n",
       "    <tr>\n",
       "      <th>2</th>\n",
       "      <td>Customer_Name</td>\n",
       "      <td>CONDUIT &amp; ACCESSORIES</td>\n",
       "      <td>1</td>\n",
       "      <td>C</td>\n",
       "      <td>SAINT-LAURENT, H4T1X7</td>\n",
       "      <td>OTHER</td>\n",
       "      <td>REXEL CANADA ELECTRICAL INC.</td>\n",
       "      <td>$29.87</td>\n",
       "      <td>4.35</td>\n",
       "      <td>0</td>\n",
       "      <td>...</td>\n",
       "      <td>0</td>\n",
       "      <td>0</td>\n",
       "      <td>0</td>\n",
       "      <td>1</td>\n",
       "      <td>0</td>\n",
       "      <td>0</td>\n",
       "      <td>0</td>\n",
       "      <td>1</td>\n",
       "      <td>0</td>\n",
       "      <td>0</td>\n",
       "    </tr>\n",
       "    <tr>\n",
       "      <th>3</th>\n",
       "      <td>Customer_Name</td>\n",
       "      <td>CONDUIT &amp; ACCESSORIES</td>\n",
       "      <td>1</td>\n",
       "      <td>C</td>\n",
       "      <td>SAINT-LAURENT, H4T1X7</td>\n",
       "      <td>OTHER</td>\n",
       "      <td>THOMAS &amp; BETTS</td>\n",
       "      <td>NaN</td>\n",
       "      <td>22.27</td>\n",
       "      <td>0</td>\n",
       "      <td>...</td>\n",
       "      <td>0</td>\n",
       "      <td>0</td>\n",
       "      <td>0</td>\n",
       "      <td>1</td>\n",
       "      <td>0</td>\n",
       "      <td>0</td>\n",
       "      <td>0</td>\n",
       "      <td>1</td>\n",
       "      <td>0</td>\n",
       "      <td>0</td>\n",
       "    </tr>\n",
       "    <tr>\n",
       "      <th>4</th>\n",
       "      <td>Customer_Name</td>\n",
       "      <td>CONNECT, FITT &amp; OUT/BOXES</td>\n",
       "      <td>1</td>\n",
       "      <td>A</td>\n",
       "      <td>SAINT-LAURENT, H4T1X7</td>\n",
       "      <td>OTHER</td>\n",
       "      <td>3M CDA INC</td>\n",
       "      <td>$13.00</td>\n",
       "      <td>NaN</td>\n",
       "      <td>0</td>\n",
       "      <td>...</td>\n",
       "      <td>0</td>\n",
       "      <td>0</td>\n",
       "      <td>0</td>\n",
       "      <td>1</td>\n",
       "      <td>0</td>\n",
       "      <td>0</td>\n",
       "      <td>0</td>\n",
       "      <td>1</td>\n",
       "      <td>0</td>\n",
       "      <td>0</td>\n",
       "    </tr>\n",
       "  </tbody>\n",
       "</table>\n",
       "<p>5 rows × 36 columns</p>\n",
       "</div>"
      ],
      "text/plain": [
       "   Customer_Name         Product_Family_Desc  Ship_Type Order Type  \\\n",
       "0  Customer_Name                WIRE & CABLE          1          A   \n",
       "1  Customer_Name       CONDUIT & ACCESSORIES          1          C   \n",
       "2  Customer_Name       CONDUIT & ACCESSORIES          1          C   \n",
       "3  Customer_Name       CONDUIT & ACCESSORIES          1          C   \n",
       "4  Customer_Name   CONNECT, FITT & OUT/BOXES          1          A   \n",
       "\n",
       "       Customer_Address  Market_Segment_Desc                  Supplier_Name  \\\n",
       "0  SAINT-LAURENT, H4T1X7                OTHER               SPOOLON MFG LTD   \n",
       "1  SAINT-LAURENT, H4T1X7                OTHER                  COLUMBIA/MBF   \n",
       "2  SAINT-LAURENT, H4T1X7                OTHER  REXEL CANADA ELECTRICAL INC.   \n",
       "3  SAINT-LAURENT, H4T1X7                OTHER                THOMAS & BETTS   \n",
       "4  SAINT-LAURENT, H4T1X7                OTHER                    3M CDA INC   \n",
       "\n",
       "         2016     2017  ALTERNATE ENERGY ...  GOVERNMENT INSTITUTIONS  \\\n",
       "0  $2,011.52   3017.28                 0 ...                        0   \n",
       "1     $41.19       NaN                 0 ...                        0   \n",
       "2     $29.87      4.35                 0 ...                        0   \n",
       "3         NaN    22.27                 0 ...                        0   \n",
       "4     $13.00       NaN                 0 ...                        0   \n",
       "\n",
       "   INDUSTRIAL CONTRACTOR  INDUSTRY END USERS  OTHER  RESIDENTIAL CONTRACTOR  \\\n",
       "0                      0                   0      1                       0   \n",
       "1                      0                   0      1                       0   \n",
       "2                      0                   0      1                       0   \n",
       "3                      0                   0      1                       0   \n",
       "4                      0                   0      1                       0   \n",
       "\n",
       "   UTILITIES  UTILITY CONTRACTORS  1  2  3  \n",
       "0          0                    0  1  0  0  \n",
       "1          0                    0  1  0  0  \n",
       "2          0                    0  1  0  0  \n",
       "3          0                    0  1  0  0  \n",
       "4          0                    0  1  0  0  \n",
       "\n",
       "[5 rows x 36 columns]"
      ]
     },
     "execution_count": 86,
     "metadata": {},
     "output_type": "execute_result"
    }
   ],
   "source": [
    "# Product Family Desc, Market Segment Desc , Ship Type  to numerical columns\n",
    "df_Product_Family_Desc = pd.get_dummies(df_sales['Product_Family_Desc'])\n",
    "#df_sales['Product_Family_Desc'].columns = ['WIRE & CABLE', 'CONDUIT & ACCESSORIES', 'CONNECT FITT OUTBOXES', 'DATACOM', 'DISTRIBUTION & FUSES', 'HEATING PRODUCTS', 'LIGHTING', 'MOTOR CONTROLS AUTOMATION', 'OTHER PRODUCTS', 'SECURITY PRODUCTS', 'TOOLS']\n",
    "df_Market_Segment_Desc  = pd.get_dummies(df_sales['Market_Segment_Desc '])\n",
    "df_Ship_Type = pd.get_dummies(df_sales['Ship_Type'])                                              \n",
    "#df_sales['Ship_Type'].columns = ['1 = WH','2 = NLI','3 = Project']\n",
    "print(df_sales.shape, df_Product_Family_Desc.shape, df_Market_Segment_Desc.shape , df_Ship_Type.shape)\n",
    "df_sales_aggregated = pd.concat([df_sales, df_Product_Family_Desc, df_Market_Segment_Desc , df_Ship_Type], axis=1)\n",
    "df_sales_aggregated.head()"
   ]
  },
  {
   "cell_type": "code",
   "execution_count": 87,
   "metadata": {},
   "outputs": [],
   "source": [
    "# Remove not necessary columns\n",
    "#del df_sales['Product_Family_Desc']\n",
    "#del df_sales['Market_Segment_Desc ']\n",
    "#del df_sales['Ship_Type']"
   ]
  },
  {
   "cell_type": "code",
   "execution_count": 88,
   "metadata": {},
   "outputs": [],
   "source": [
    "# feature engineering\n",
    "X_columns = df_sales.columns[:-1]\n",
    "y_column = df_sales.columns[-1]"
   ]
  },
  {
   "cell_type": "markdown",
   "metadata": {},
   "source": [
    "# Model Training"
   ]
  },
  {
   "cell_type": "code",
   "execution_count": 89,
   "metadata": {},
   "outputs": [
    {
     "name": "stdout",
     "output_type": "stream",
     "text": [
      "X_train (115574, 8)\n",
      "y_train (115574,)\n",
      "X_test (28894, 8)\n",
      "y_test (28894,)\n"
     ]
    }
   ],
   "source": [
    "# split the data\n",
    "\n",
    "threshold = 0.8\n",
    "X = df_sales[X_columns]\n",
    "y = df_sales[y_column]\n",
    "X_train, X_test, y_train, y_test = train_test_split(X, y, test_size=1.0-threshold)\n",
    "\n",
    "print('X_train', X_train.shape)\n",
    "print('y_train', y_train.shape)\n",
    "print('X_test', X_test.shape)\n",
    "print('y_test', y_test.shape)"
   ]
  },
  {
   "cell_type": "markdown",
   "metadata": {},
   "source": [
    "# Model Training / Evaluation - Using Split"
   ]
  },
  {
   "cell_type": "code",
   "execution_count": 90,
   "metadata": {
    "scrolled": false
   },
   "outputs": [
    {
     "name": "stdout",
     "output_type": "stream",
     "text": [
      "MODEL Naive Bayes\n"
     ]
    },
    {
     "ename": "ValueError",
     "evalue": "could not convert string to float: '$67.87 '",
     "output_type": "error",
     "traceback": [
      "\u001b[0;31m---------------------------------------------------------------------------\u001b[0m",
      "\u001b[0;31mValueError\u001b[0m                                Traceback (most recent call last)",
      "\u001b[0;32m<ipython-input-90-a0113d1335e0>\u001b[0m in \u001b[0;36m<module>\u001b[0;34m()\u001b[0m\n\u001b[1;32m     10\u001b[0m     \u001b[0mprint\u001b[0m\u001b[0;34m(\u001b[0m\u001b[0;34m'MODEL'\u001b[0m\u001b[0;34m,\u001b[0m \u001b[0mm\u001b[0m\u001b[0;34m[\u001b[0m\u001b[0;36m0\u001b[0m\u001b[0;34m]\u001b[0m\u001b[0;34m)\u001b[0m\u001b[0;34m\u001b[0m\u001b[0m\n\u001b[1;32m     11\u001b[0m     \u001b[0mmodel\u001b[0m \u001b[0;34m=\u001b[0m \u001b[0mm\u001b[0m\u001b[0;34m[\u001b[0m\u001b[0;36m1\u001b[0m\u001b[0;34m]\u001b[0m\u001b[0;34m\u001b[0m\u001b[0m\n\u001b[0;32m---> 12\u001b[0;31m     \u001b[0mmodel\u001b[0m\u001b[0;34m.\u001b[0m\u001b[0mfit\u001b[0m\u001b[0;34m(\u001b[0m\u001b[0mX_train\u001b[0m\u001b[0;34m,\u001b[0m \u001b[0my_train\u001b[0m\u001b[0;34m.\u001b[0m\u001b[0mvalues\u001b[0m\u001b[0;34m.\u001b[0m\u001b[0mravel\u001b[0m\u001b[0;34m(\u001b[0m\u001b[0;34m)\u001b[0m\u001b[0;34m)\u001b[0m\u001b[0;34m\u001b[0m\u001b[0m\n\u001b[0m\u001b[1;32m     13\u001b[0m     \u001b[0my_pred\u001b[0m \u001b[0;34m=\u001b[0m \u001b[0mmodel\u001b[0m\u001b[0;34m.\u001b[0m\u001b[0mpredict\u001b[0m\u001b[0;34m(\u001b[0m\u001b[0mX_test\u001b[0m\u001b[0;34m)\u001b[0m\u001b[0;34m\u001b[0m\u001b[0m\n\u001b[1;32m     14\u001b[0m     \u001b[0mprecision\u001b[0m \u001b[0;34m=\u001b[0m \u001b[0mprecision_score\u001b[0m\u001b[0;34m(\u001b[0m\u001b[0my_test\u001b[0m\u001b[0;34m,\u001b[0m \u001b[0my_pred\u001b[0m\u001b[0;34m)\u001b[0m\u001b[0;34m\u001b[0m\u001b[0m\n",
      "\u001b[0;32m~/anaconda3/lib/python3.6/site-packages/sklearn/naive_bayes.py\u001b[0m in \u001b[0;36mfit\u001b[0;34m(self, X, y, sample_weight)\u001b[0m\n\u001b[1;32m    181\u001b[0m             \u001b[0mReturns\u001b[0m \u001b[0mself\u001b[0m\u001b[0;34m.\u001b[0m\u001b[0;34m\u001b[0m\u001b[0m\n\u001b[1;32m    182\u001b[0m         \"\"\"\n\u001b[0;32m--> 183\u001b[0;31m         \u001b[0mX\u001b[0m\u001b[0;34m,\u001b[0m \u001b[0my\u001b[0m \u001b[0;34m=\u001b[0m \u001b[0mcheck_X_y\u001b[0m\u001b[0;34m(\u001b[0m\u001b[0mX\u001b[0m\u001b[0;34m,\u001b[0m \u001b[0my\u001b[0m\u001b[0;34m)\u001b[0m\u001b[0;34m\u001b[0m\u001b[0m\n\u001b[0m\u001b[1;32m    184\u001b[0m         return self._partial_fit(X, y, np.unique(y), _refit=True,\n\u001b[1;32m    185\u001b[0m                                  sample_weight=sample_weight)\n",
      "\u001b[0;32m~/anaconda3/lib/python3.6/site-packages/sklearn/utils/validation.py\u001b[0m in \u001b[0;36mcheck_X_y\u001b[0;34m(X, y, accept_sparse, dtype, order, copy, force_all_finite, ensure_2d, allow_nd, multi_output, ensure_min_samples, ensure_min_features, y_numeric, warn_on_dtype, estimator)\u001b[0m\n\u001b[1;32m    571\u001b[0m     X = check_array(X, accept_sparse, dtype, order, copy, force_all_finite,\n\u001b[1;32m    572\u001b[0m                     \u001b[0mensure_2d\u001b[0m\u001b[0;34m,\u001b[0m \u001b[0mallow_nd\u001b[0m\u001b[0;34m,\u001b[0m \u001b[0mensure_min_samples\u001b[0m\u001b[0;34m,\u001b[0m\u001b[0;34m\u001b[0m\u001b[0m\n\u001b[0;32m--> 573\u001b[0;31m                     ensure_min_features, warn_on_dtype, estimator)\n\u001b[0m\u001b[1;32m    574\u001b[0m     \u001b[0;32mif\u001b[0m \u001b[0mmulti_output\u001b[0m\u001b[0;34m:\u001b[0m\u001b[0;34m\u001b[0m\u001b[0m\n\u001b[1;32m    575\u001b[0m         y = check_array(y, 'csr', force_all_finite=True, ensure_2d=False,\n",
      "\u001b[0;32m~/anaconda3/lib/python3.6/site-packages/sklearn/utils/validation.py\u001b[0m in \u001b[0;36mcheck_array\u001b[0;34m(array, accept_sparse, dtype, order, copy, force_all_finite, ensure_2d, allow_nd, ensure_min_samples, ensure_min_features, warn_on_dtype, estimator)\u001b[0m\n\u001b[1;32m    446\u001b[0m         \u001b[0;31m# make sure we actually converted to numeric:\u001b[0m\u001b[0;34m\u001b[0m\u001b[0;34m\u001b[0m\u001b[0m\n\u001b[1;32m    447\u001b[0m         \u001b[0;32mif\u001b[0m \u001b[0mdtype_numeric\u001b[0m \u001b[0;32mand\u001b[0m \u001b[0marray\u001b[0m\u001b[0;34m.\u001b[0m\u001b[0mdtype\u001b[0m\u001b[0;34m.\u001b[0m\u001b[0mkind\u001b[0m \u001b[0;34m==\u001b[0m \u001b[0;34m\"O\"\u001b[0m\u001b[0;34m:\u001b[0m\u001b[0;34m\u001b[0m\u001b[0m\n\u001b[0;32m--> 448\u001b[0;31m             \u001b[0marray\u001b[0m \u001b[0;34m=\u001b[0m \u001b[0marray\u001b[0m\u001b[0;34m.\u001b[0m\u001b[0mastype\u001b[0m\u001b[0;34m(\u001b[0m\u001b[0mnp\u001b[0m\u001b[0;34m.\u001b[0m\u001b[0mfloat64\u001b[0m\u001b[0;34m)\u001b[0m\u001b[0;34m\u001b[0m\u001b[0m\n\u001b[0m\u001b[1;32m    449\u001b[0m         \u001b[0;32mif\u001b[0m \u001b[0;32mnot\u001b[0m \u001b[0mallow_nd\u001b[0m \u001b[0;32mand\u001b[0m \u001b[0marray\u001b[0m\u001b[0;34m.\u001b[0m\u001b[0mndim\u001b[0m \u001b[0;34m>=\u001b[0m \u001b[0;36m3\u001b[0m\u001b[0;34m:\u001b[0m\u001b[0;34m\u001b[0m\u001b[0m\n\u001b[1;32m    450\u001b[0m             raise ValueError(\"Found array with dim %d. %s expected <= 2.\"\n",
      "\u001b[0;31mValueError\u001b[0m: could not convert string to float: '$67.87 '"
     ]
    }
   ],
   "source": [
    "models = [\n",
    "    ('Naive Bayes', GaussianNB()),\n",
    "    ('RandomForestClassifier10', RandomForestClassifier(n_estimators=10)),\n",
    "    ('RandomForestClassifier100', RandomForestClassifier(n_estimators=100)),\n",
    "    ('KNeighborsClassifier', KNeighborsClassifier()),\n",
    "    ('DecisionTreeClassifier', DecisionTreeClassifier())\n",
    "]\n",
    "results = []\n",
    "for m in models:\n",
    "    print('MODEL', m[0])\n",
    "    model = m[1]\n",
    "    model.fit(X_train, y_train.values.ravel())\n",
    "    y_pred = model.predict(X_test)\n",
    "    precision = precision_score(y_test, y_pred)\n",
    "    recall = recall_score(y_test, y_pred)\n",
    "    print(confusion_matrix(y_test, y_pred))\n",
    "    print('Precision', precision)\n",
    "    print('Recall', recall)\n",
    "    results.append([m[0], precision, recall])\n",
    "    \n",
    "    # if there is a feature importance, print top 5\n",
    "    importance = []\n",
    "    if hasattr(model, 'feature_importances_'):\n",
    "        print('Feature Importance')\n",
    "        importance = []\n",
    "        for i in range(len(X_columns)):\n",
    "            importance.append([X_columns[i], model.feature_importances_[i]])\n",
    "        print(pd.DataFrame(importance).sort_values(by=1, ascending=False).head())\n",
    "    elif hasattr(model, 'coef_'):\n",
    "        print('Feature Importance')\n",
    "        for i in range(len(X_columns)):\n",
    "            importance.append([X_columns[i], model.coef_[i]])\n",
    "        print(pd.DataFrame(importance).sort_values(by=1, ascending=False).head())\n",
    "        \n",
    "    print('')\n",
    "\n",
    "# sort the results and print as a table\n",
    "df_sales ['2017'] = df_sales ['2017'].apply(lambda x: str(x).replace('$','').replace('(','').replace(')','').replace(',','')).astype(float)\n",
    "df_sales = pd.DataFrame(results)\n",
    "df_sales.columns = ['model', 'precision', 'recall']\n",
    "df_sales = df_sales.sort_values(by='precision', ascending=False)\n",
    "df_sales"
   ]
  },
  {
   "cell_type": "markdown",
   "metadata": {},
   "source": [
    "# Model Training / Evaluation - Cross Validation"
   ]
  },
  {
   "cell_type": "code",
   "execution_count": 91,
   "metadata": {},
   "outputs": [
    {
     "name": "stdout",
     "output_type": "stream",
     "text": [
      "MODEL Naive Bayes\n"
     ]
    },
    {
     "ename": "ValueError",
     "evalue": "could not convert string to float: '$1,628.00 '",
     "output_type": "error",
     "traceback": [
      "\u001b[0;31m---------------------------------------------------------------------------\u001b[0m",
      "\u001b[0;31mValueError\u001b[0m                                Traceback (most recent call last)",
      "\u001b[0;32m<ipython-input-91-01ef34669990>\u001b[0m in \u001b[0;36m<module>\u001b[0;34m()\u001b[0m\n\u001b[1;32m     17\u001b[0m         \u001b[0my_train\u001b[0m\u001b[0;34m,\u001b[0m \u001b[0my_test\u001b[0m \u001b[0;34m=\u001b[0m \u001b[0my\u001b[0m\u001b[0;34m.\u001b[0m\u001b[0mvalues\u001b[0m\u001b[0;34m[\u001b[0m\u001b[0mtrain_index\u001b[0m\u001b[0;34m]\u001b[0m\u001b[0;34m,\u001b[0m \u001b[0my\u001b[0m\u001b[0;34m.\u001b[0m\u001b[0mvalues\u001b[0m\u001b[0;34m[\u001b[0m\u001b[0mtest_index\u001b[0m\u001b[0;34m]\u001b[0m\u001b[0;34m\u001b[0m\u001b[0m\n\u001b[1;32m     18\u001b[0m         \u001b[0mmodel\u001b[0m \u001b[0;34m=\u001b[0m \u001b[0mm\u001b[0m\u001b[0;34m[\u001b[0m\u001b[0;36m1\u001b[0m\u001b[0;34m]\u001b[0m\u001b[0;34m\u001b[0m\u001b[0m\n\u001b[0;32m---> 19\u001b[0;31m         \u001b[0mmodel\u001b[0m\u001b[0;34m.\u001b[0m\u001b[0mfit\u001b[0m\u001b[0;34m(\u001b[0m\u001b[0mX_train\u001b[0m\u001b[0;34m,\u001b[0m \u001b[0my_train\u001b[0m\u001b[0;34m.\u001b[0m\u001b[0mravel\u001b[0m\u001b[0;34m(\u001b[0m\u001b[0;34m)\u001b[0m\u001b[0;34m)\u001b[0m\u001b[0;34m\u001b[0m\u001b[0m\n\u001b[0m\u001b[1;32m     20\u001b[0m         \u001b[0my_pred\u001b[0m \u001b[0;34m=\u001b[0m \u001b[0mmodel\u001b[0m\u001b[0;34m.\u001b[0m\u001b[0mpredict\u001b[0m\u001b[0;34m(\u001b[0m\u001b[0mX_test\u001b[0m\u001b[0;34m)\u001b[0m\u001b[0;34m\u001b[0m\u001b[0m\n\u001b[1;32m     21\u001b[0m         \u001b[0mprecision\u001b[0m \u001b[0;34m=\u001b[0m \u001b[0mprecision_score\u001b[0m\u001b[0;34m(\u001b[0m\u001b[0my_test\u001b[0m\u001b[0;34m,\u001b[0m \u001b[0my_pred\u001b[0m\u001b[0;34m)\u001b[0m\u001b[0;34m\u001b[0m\u001b[0m\n",
      "\u001b[0;32m~/anaconda3/lib/python3.6/site-packages/sklearn/naive_bayes.py\u001b[0m in \u001b[0;36mfit\u001b[0;34m(self, X, y, sample_weight)\u001b[0m\n\u001b[1;32m    181\u001b[0m             \u001b[0mReturns\u001b[0m \u001b[0mself\u001b[0m\u001b[0;34m.\u001b[0m\u001b[0;34m\u001b[0m\u001b[0m\n\u001b[1;32m    182\u001b[0m         \"\"\"\n\u001b[0;32m--> 183\u001b[0;31m         \u001b[0mX\u001b[0m\u001b[0;34m,\u001b[0m \u001b[0my\u001b[0m \u001b[0;34m=\u001b[0m \u001b[0mcheck_X_y\u001b[0m\u001b[0;34m(\u001b[0m\u001b[0mX\u001b[0m\u001b[0;34m,\u001b[0m \u001b[0my\u001b[0m\u001b[0;34m)\u001b[0m\u001b[0;34m\u001b[0m\u001b[0m\n\u001b[0m\u001b[1;32m    184\u001b[0m         return self._partial_fit(X, y, np.unique(y), _refit=True,\n\u001b[1;32m    185\u001b[0m                                  sample_weight=sample_weight)\n",
      "\u001b[0;32m~/anaconda3/lib/python3.6/site-packages/sklearn/utils/validation.py\u001b[0m in \u001b[0;36mcheck_X_y\u001b[0;34m(X, y, accept_sparse, dtype, order, copy, force_all_finite, ensure_2d, allow_nd, multi_output, ensure_min_samples, ensure_min_features, y_numeric, warn_on_dtype, estimator)\u001b[0m\n\u001b[1;32m    571\u001b[0m     X = check_array(X, accept_sparse, dtype, order, copy, force_all_finite,\n\u001b[1;32m    572\u001b[0m                     \u001b[0mensure_2d\u001b[0m\u001b[0;34m,\u001b[0m \u001b[0mallow_nd\u001b[0m\u001b[0;34m,\u001b[0m \u001b[0mensure_min_samples\u001b[0m\u001b[0;34m,\u001b[0m\u001b[0;34m\u001b[0m\u001b[0m\n\u001b[0;32m--> 573\u001b[0;31m                     ensure_min_features, warn_on_dtype, estimator)\n\u001b[0m\u001b[1;32m    574\u001b[0m     \u001b[0;32mif\u001b[0m \u001b[0mmulti_output\u001b[0m\u001b[0;34m:\u001b[0m\u001b[0;34m\u001b[0m\u001b[0m\n\u001b[1;32m    575\u001b[0m         y = check_array(y, 'csr', force_all_finite=True, ensure_2d=False,\n",
      "\u001b[0;32m~/anaconda3/lib/python3.6/site-packages/sklearn/utils/validation.py\u001b[0m in \u001b[0;36mcheck_array\u001b[0;34m(array, accept_sparse, dtype, order, copy, force_all_finite, ensure_2d, allow_nd, ensure_min_samples, ensure_min_features, warn_on_dtype, estimator)\u001b[0m\n\u001b[1;32m    431\u001b[0m                                       force_all_finite)\n\u001b[1;32m    432\u001b[0m     \u001b[0;32melse\u001b[0m\u001b[0;34m:\u001b[0m\u001b[0;34m\u001b[0m\u001b[0m\n\u001b[0;32m--> 433\u001b[0;31m         \u001b[0marray\u001b[0m \u001b[0;34m=\u001b[0m \u001b[0mnp\u001b[0m\u001b[0;34m.\u001b[0m\u001b[0marray\u001b[0m\u001b[0;34m(\u001b[0m\u001b[0marray\u001b[0m\u001b[0;34m,\u001b[0m \u001b[0mdtype\u001b[0m\u001b[0;34m=\u001b[0m\u001b[0mdtype\u001b[0m\u001b[0;34m,\u001b[0m \u001b[0morder\u001b[0m\u001b[0;34m=\u001b[0m\u001b[0morder\u001b[0m\u001b[0;34m,\u001b[0m \u001b[0mcopy\u001b[0m\u001b[0;34m=\u001b[0m\u001b[0mcopy\u001b[0m\u001b[0;34m)\u001b[0m\u001b[0;34m\u001b[0m\u001b[0m\n\u001b[0m\u001b[1;32m    434\u001b[0m \u001b[0;34m\u001b[0m\u001b[0m\n\u001b[1;32m    435\u001b[0m         \u001b[0;32mif\u001b[0m \u001b[0mensure_2d\u001b[0m\u001b[0;34m:\u001b[0m\u001b[0;34m\u001b[0m\u001b[0m\n",
      "\u001b[0;31mValueError\u001b[0m: could not convert string to float: '$1,628.00 '"
     ]
    }
   ],
   "source": [
    "df_sales ['2017'] = df_sales['2017'].apply(lambda x: str(x).replace('$','').replace('(','').replace(')','').replace(',','')).astype(float)\n",
    "models = [\n",
    "    ('Naive Bayes', GaussianNB()),\n",
    "    ('RandomForestClassifier10', RandomForestClassifier(n_estimators=10)),\n",
    "    ('RandomForestClassifier100', RandomForestClassifier(n_estimators=100)),\n",
    "    ('KNeighborsClassifier', KNeighborsClassifier()),\n",
    "    ('DecisionTreeClassifier', DecisionTreeClassifier())\n",
    "]\n",
    "k = 10\n",
    "results = {}\n",
    "for m in models:\n",
    "    print('MODEL', m[0])\n",
    "    results[m[0]] = {'precision':[], 'recall':[]}\n",
    "    kf = KFold(n_splits=k)\n",
    "    for train_index, test_index in kf.split(X):\n",
    "        X_train, X_test = X.values[train_index], X.values[test_index]\n",
    "        y_train, y_test = y.values[train_index], y.values[test_index]\n",
    "        model = m[1]\n",
    "        model.fit(X_train, y_train.ravel())\n",
    "        y_pred = model.predict(X_test)\n",
    "        precision = precision_score(y_test, y_pred)\n",
    "        recall = recall_score(y_test, y_pred)\n",
    "        results[m[0]]['precision'].append(precision)\n",
    "        results[m[0]]['recall'].append(recall)       "
   ]
  },
  {
   "cell_type": "code",
   "execution_count": null,
   "metadata": {},
   "outputs": [],
   "source": [
    "for metric in ['precision', 'recall']:\n",
    "    values = []\n",
    "    labels = []\n",
    "    for model, result_values in results.items():\n",
    "        for m, v in result_values.items():\n",
    "            if m == metric:\n",
    "                labels.append(model)\n",
    "                values.append(v)\n",
    "    plt.figure(figsize=(12,6))\n",
    "    plt.title(metric)\n",
    "    plt.boxplot(values)\n",
    "    plt.xticks(range(1, len(labels)+1), labels, rotation='horizontal')\n",
    "    plt.show()"
   ]
  },
  {
   "cell_type": "code",
   "execution_count": 92,
   "metadata": {},
   "outputs": [],
   "source": [
    "#\"\tWhat could look like 2017 sales within product family, market segment & ship type using machine learning process?"
   ]
  },
  {
   "cell_type": "code",
   "execution_count": 93,
   "metadata": {},
   "outputs": [],
   "source": [
    "#Due to multiple datasets and the complexiy of cleaning and mergin data, only sales 2017 was used"
   ]
  },
  {
   "cell_type": "code",
   "execution_count": null,
   "metadata": {},
   "outputs": [],
   "source": [
    "#ValueError: could not convert string to float: '$1,628.00 ' tried to resolve ths error, but did not find how"
   ]
  }
 ],
 "metadata": {
  "anaconda-cloud": {},
  "kernelspec": {
   "display_name": "Python 3",
   "language": "python",
   "name": "python3"
  },
  "language_info": {
   "codemirror_mode": {
    "name": "ipython",
    "version": 3
   },
   "file_extension": ".py",
   "mimetype": "text/x-python",
   "name": "python",
   "nbconvert_exporter": "python",
   "pygments_lexer": "ipython3",
   "version": "3.6.4"
  }
 },
 "nbformat": 4,
 "nbformat_minor": 1
}
