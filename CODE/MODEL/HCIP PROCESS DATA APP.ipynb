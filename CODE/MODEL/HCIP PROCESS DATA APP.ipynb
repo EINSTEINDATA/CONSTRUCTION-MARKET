{
 "cells": [
  {
   "cell_type": "code",
   "execution_count": 2,
   "metadata": {},
   "outputs": [
    {
     "ename": "SyntaxError",
     "evalue": "invalid syntax (<ipython-input-2-768dbc09adb4>, line 16)",
     "output_type": "error",
     "traceback": [
      "\u001b[0;36m  File \u001b[0;32m\"<ipython-input-2-768dbc09adb4>\"\u001b[0;36m, line \u001b[0;32m16\u001b[0m\n\u001b[0;31m    Product Family = float(request.form['Product Family'])\u001b[0m\n\u001b[0m                 ^\u001b[0m\n\u001b[0;31mSyntaxError\u001b[0m\u001b[0;31m:\u001b[0m invalid syntax\n"
     ]
    }
   ],
   "source": [
    "from flask import Flask, render_template, request\n",
    "from sklearn.externals import joblib\n",
    "import os\n",
    "\n",
    "app = Flask(__name__, static_url_path='/static/')\n",
    "\n",
    "\n",
    "@app.route('/')\n",
    "def form():\n",
    "    return render_template('index.html')\n",
    "\n",
    "\n",
    "@app.route('/predict_sales', methods=['POST', 'GET'])\n",
    "def predict_sales():\n",
    "    # get the parameters\n",
    "    Product Family = float(request.form['Product Family'])\n",
    "    Market Segment = float(request.form['Market Segment'])\n",
    "    Ship Type = float(request.form['Ship Type'])\n",
    "    Customer = float(request.form['Customer'])\n",
    " \n",
    "\n",
    "    # load the model and predict\n",
    "    model = joblib.load('model/linear_regression.pkl')\n",
    "    prediction = model.predict([[Product Family, Market Segment, Ship Type, Customer]])\n",
    "    predicted_sales = prediction.round(1)[0]\n",
    "\n",
    "    return render_template('results.html',\n",
    "                           Product Family=int(Product family),\n",
    "                           Market Segment=int(Market Segment),\n",
    "                           Ship Type=int(Ship Type),\n",
    "                           Customer=int(Customer),\n",
    "                           predicted_sales=\"{:,}\".format(predicted_sales)\n",
    "                           )\n",
    "\n",
    "\n",
    "if __name__ == '__main__':\n",
    "    port = int(os.environ.get('PORT', 5000))\n",
    "    app.run(host='0.0.0.0', port=port)"
   ]
  },
  {
   "cell_type": "code",
   "execution_count": null,
   "metadata": {},
   "outputs": [],
   "source": []
  }
 ],
 "metadata": {
  "kernelspec": {
   "display_name": "Python 3",
   "language": "python",
   "name": "python3"
  },
  "language_info": {
   "codemirror_mode": {
    "name": "ipython",
    "version": 3
   },
   "file_extension": ".py",
   "mimetype": "text/x-python",
   "name": "python",
   "nbconvert_exporter": "python",
   "pygments_lexer": "ipython3",
   "version": "3.6.4"
  }
 },
 "nbformat": 4,
 "nbformat_minor": 2
}
